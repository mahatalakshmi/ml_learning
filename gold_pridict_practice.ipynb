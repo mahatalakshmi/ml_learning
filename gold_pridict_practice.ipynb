{
  "nbformat": 4,
  "nbformat_minor": 0,
  "metadata": {
    "colab": {
      "name": "Untitled2.ipynb",
      "provenance": [],
      "authorship_tag": "ABX9TyOxAqjCBnkhIlIyzBeSoQxp",
      "include_colab_link": true
    },
    "kernelspec": {
      "name": "python3",
      "display_name": "Python 3"
    },
    "language_info": {
      "name": "python"
    }
  },
  "cells": [
    {
      "cell_type": "markdown",
      "metadata": {
        "id": "view-in-github",
        "colab_type": "text"
      },
      "source": [
        "<a href=\"https://colab.research.google.com/github/mahatalakshmi/mahatalakshmi/blob/main/gold_pridict_practice.ipynb\" target=\"_parent\"><img src=\"https://colab.research.google.com/assets/colab-badge.svg\" alt=\"Open In Colab\"/></a>"
      ]
    },
    {
      "cell_type": "code",
      "metadata": {
        "id": "qx4s01bu5-Kt"
      },
      "source": [
        "import numpy as np\n",
        "import pandas as pd\n",
        "import matplotlib.pyplot as plt\n",
        "import seaborn as sns\n",
        "from sklearn.model_selection import train_test_split\n",
        "from sklearn.ensemble import RandomForestRegressor\n",
        "from sklearn import metrics"
      ],
      "execution_count": 4,
      "outputs": []
    },
    {
      "cell_type": "markdown",
      "metadata": {
        "id": "Xpn6SwdDFY_o"
      },
      "source": [
        "DATA SET"
      ]
    },
    {
      "cell_type": "code",
      "metadata": {
        "id": "Cv1vPVCFFmKU"
      },
      "source": [
        "gold_data=pd.read_csv('/content/gld_price_data.csv')"
      ],
      "execution_count": 37,
      "outputs": []
    },
    {
      "cell_type": "markdown",
      "metadata": {
        "id": "JfAPMz0hF01E"
      },
      "source": [
        "printing 1st 5 rows in data set"
      ]
    },
    {
      "cell_type": "code",
      "metadata": {
        "colab": {
          "base_uri": "https://localhost:8080/",
          "height": 200
        },
        "id": "__8iB33Y8hMk",
        "outputId": "38399536-6870-400a-f715-795bc4a89766"
      },
      "source": [
        "gold_data.head()\n"
      ],
      "execution_count": 6,
      "outputs": [
        {
          "output_type": "execute_result",
          "data": {
            "text/html": [
              "<div>\n",
              "<style scoped>\n",
              "    .dataframe tbody tr th:only-of-type {\n",
              "        vertical-align: middle;\n",
              "    }\n",
              "\n",
              "    .dataframe tbody tr th {\n",
              "        vertical-align: top;\n",
              "    }\n",
              "\n",
              "    .dataframe thead th {\n",
              "        text-align: right;\n",
              "    }\n",
              "</style>\n",
              "<table border=\"1\" class=\"dataframe\">\n",
              "  <thead>\n",
              "    <tr style=\"text-align: right;\">\n",
              "      <th></th>\n",
              "      <th>Date</th>\n",
              "      <th>SPX</th>\n",
              "      <th>GLD</th>\n",
              "      <th>USO</th>\n",
              "      <th>SLV</th>\n",
              "      <th>EUR/USD</th>\n",
              "    </tr>\n",
              "  </thead>\n",
              "  <tbody>\n",
              "    <tr>\n",
              "      <th>0</th>\n",
              "      <td>1/2/2008</td>\n",
              "      <td>1447.160034</td>\n",
              "      <td>84.860001</td>\n",
              "      <td>78.470001</td>\n",
              "      <td>15.180</td>\n",
              "      <td>1.471692</td>\n",
              "    </tr>\n",
              "    <tr>\n",
              "      <th>1</th>\n",
              "      <td>1/3/2008</td>\n",
              "      <td>1447.160034</td>\n",
              "      <td>85.570000</td>\n",
              "      <td>78.370003</td>\n",
              "      <td>15.285</td>\n",
              "      <td>1.474491</td>\n",
              "    </tr>\n",
              "    <tr>\n",
              "      <th>2</th>\n",
              "      <td>1/4/2008</td>\n",
              "      <td>1411.630005</td>\n",
              "      <td>85.129997</td>\n",
              "      <td>77.309998</td>\n",
              "      <td>15.167</td>\n",
              "      <td>1.475492</td>\n",
              "    </tr>\n",
              "    <tr>\n",
              "      <th>3</th>\n",
              "      <td>1/7/2008</td>\n",
              "      <td>1416.180054</td>\n",
              "      <td>84.769997</td>\n",
              "      <td>75.500000</td>\n",
              "      <td>15.053</td>\n",
              "      <td>1.468299</td>\n",
              "    </tr>\n",
              "    <tr>\n",
              "      <th>4</th>\n",
              "      <td>1/8/2008</td>\n",
              "      <td>1390.189941</td>\n",
              "      <td>86.779999</td>\n",
              "      <td>76.059998</td>\n",
              "      <td>15.590</td>\n",
              "      <td>1.557099</td>\n",
              "    </tr>\n",
              "  </tbody>\n",
              "</table>\n",
              "</div>"
            ],
            "text/plain": [
              "       Date          SPX        GLD        USO     SLV   EUR/USD\n",
              "0  1/2/2008  1447.160034  84.860001  78.470001  15.180  1.471692\n",
              "1  1/3/2008  1447.160034  85.570000  78.370003  15.285  1.474491\n",
              "2  1/4/2008  1411.630005  85.129997  77.309998  15.167  1.475492\n",
              "3  1/7/2008  1416.180054  84.769997  75.500000  15.053  1.468299\n",
              "4  1/8/2008  1390.189941  86.779999  76.059998  15.590  1.557099"
            ]
          },
          "metadata": {},
          "execution_count": 6
        }
      ]
    },
    {
      "cell_type": "markdown",
      "metadata": {
        "id": "-yP9p37eF5Pc"
      },
      "source": [
        "printing last  rows in data set"
      ]
    },
    {
      "cell_type": "code",
      "metadata": {
        "colab": {
          "base_uri": "https://localhost:8080/",
          "height": 200
        },
        "id": "84t18tqm8o8b",
        "outputId": "887b35ae-15d6-4e34-be34-d9b471443e73"
      },
      "source": [
        "gold_data.tail()"
      ],
      "execution_count": 7,
      "outputs": [
        {
          "output_type": "execute_result",
          "data": {
            "text/html": [
              "<div>\n",
              "<style scoped>\n",
              "    .dataframe tbody tr th:only-of-type {\n",
              "        vertical-align: middle;\n",
              "    }\n",
              "\n",
              "    .dataframe tbody tr th {\n",
              "        vertical-align: top;\n",
              "    }\n",
              "\n",
              "    .dataframe thead th {\n",
              "        text-align: right;\n",
              "    }\n",
              "</style>\n",
              "<table border=\"1\" class=\"dataframe\">\n",
              "  <thead>\n",
              "    <tr style=\"text-align: right;\">\n",
              "      <th></th>\n",
              "      <th>Date</th>\n",
              "      <th>SPX</th>\n",
              "      <th>GLD</th>\n",
              "      <th>USO</th>\n",
              "      <th>SLV</th>\n",
              "      <th>EUR/USD</th>\n",
              "    </tr>\n",
              "  </thead>\n",
              "  <tbody>\n",
              "    <tr>\n",
              "      <th>2285</th>\n",
              "      <td>5/8/2018</td>\n",
              "      <td>2671.919922</td>\n",
              "      <td>124.589996</td>\n",
              "      <td>14.0600</td>\n",
              "      <td>15.5100</td>\n",
              "      <td>1.186789</td>\n",
              "    </tr>\n",
              "    <tr>\n",
              "      <th>2286</th>\n",
              "      <td>5/9/2018</td>\n",
              "      <td>2697.790039</td>\n",
              "      <td>124.330002</td>\n",
              "      <td>14.3700</td>\n",
              "      <td>15.5300</td>\n",
              "      <td>1.184722</td>\n",
              "    </tr>\n",
              "    <tr>\n",
              "      <th>2287</th>\n",
              "      <td>5/10/2018</td>\n",
              "      <td>2723.070068</td>\n",
              "      <td>125.180000</td>\n",
              "      <td>14.4100</td>\n",
              "      <td>15.7400</td>\n",
              "      <td>1.191753</td>\n",
              "    </tr>\n",
              "    <tr>\n",
              "      <th>2288</th>\n",
              "      <td>5/14/2018</td>\n",
              "      <td>2730.129883</td>\n",
              "      <td>124.489998</td>\n",
              "      <td>14.3800</td>\n",
              "      <td>15.5600</td>\n",
              "      <td>1.193118</td>\n",
              "    </tr>\n",
              "    <tr>\n",
              "      <th>2289</th>\n",
              "      <td>5/16/2018</td>\n",
              "      <td>2725.780029</td>\n",
              "      <td>122.543800</td>\n",
              "      <td>14.4058</td>\n",
              "      <td>15.4542</td>\n",
              "      <td>1.182033</td>\n",
              "    </tr>\n",
              "  </tbody>\n",
              "</table>\n",
              "</div>"
            ],
            "text/plain": [
              "           Date          SPX         GLD      USO      SLV   EUR/USD\n",
              "2285   5/8/2018  2671.919922  124.589996  14.0600  15.5100  1.186789\n",
              "2286   5/9/2018  2697.790039  124.330002  14.3700  15.5300  1.184722\n",
              "2287  5/10/2018  2723.070068  125.180000  14.4100  15.7400  1.191753\n",
              "2288  5/14/2018  2730.129883  124.489998  14.3800  15.5600  1.193118\n",
              "2289  5/16/2018  2725.780029  122.543800  14.4058  15.4542  1.182033"
            ]
          },
          "metadata": {},
          "execution_count": 7
        }
      ]
    },
    {
      "cell_type": "markdown",
      "metadata": {
        "id": "cB38YyvLF_FM"
      },
      "source": [
        "printing no of cooums and rows"
      ]
    },
    {
      "cell_type": "code",
      "metadata": {
        "colab": {
          "base_uri": "https://localhost:8080/"
        },
        "id": "l5ZnlbOA8-Yo",
        "outputId": "3daf425e-89bd-489c-ffe1-ec48292ea559"
      },
      "source": [
        "gold_data.shape"
      ],
      "execution_count": 9,
      "outputs": [
        {
          "output_type": "execute_result",
          "data": {
            "text/plain": [
              "(2290, 6)"
            ]
          },
          "metadata": {},
          "execution_count": 9
        }
      ]
    },
    {
      "cell_type": "markdown",
      "metadata": {
        "id": "EFL0udPmGD0q"
      },
      "source": [
        "some extra info"
      ]
    },
    {
      "cell_type": "code",
      "metadata": {
        "colab": {
          "base_uri": "https://localhost:8080/"
        },
        "id": "2tvNR7Tp9XDD",
        "outputId": "099c8b75-9763-4dad-9cec-6d079b1e40ad"
      },
      "source": [
        "gold_data.info()"
      ],
      "execution_count": 10,
      "outputs": [
        {
          "output_type": "stream",
          "name": "stdout",
          "text": [
            "<class 'pandas.core.frame.DataFrame'>\n",
            "RangeIndex: 2290 entries, 0 to 2289\n",
            "Data columns (total 6 columns):\n",
            " #   Column   Non-Null Count  Dtype  \n",
            "---  ------   --------------  -----  \n",
            " 0   Date     2290 non-null   object \n",
            " 1   SPX      2290 non-null   float64\n",
            " 2   GLD      2290 non-null   float64\n",
            " 3   USO      2290 non-null   float64\n",
            " 4   SLV      2290 non-null   float64\n",
            " 5   EUR/USD  2290 non-null   float64\n",
            "dtypes: float64(5), object(1)\n",
            "memory usage: 107.5+ KB\n"
          ]
        }
      ]
    },
    {
      "cell_type": "markdown",
      "metadata": {
        "id": "8-obEYBQGGMH"
      },
      "source": [
        "printing any nulls values present in it"
      ]
    },
    {
      "cell_type": "code",
      "metadata": {
        "colab": {
          "base_uri": "https://localhost:8080/"
        },
        "id": "o9Pwi8KR9esy",
        "outputId": "21119716-7ff0-4ff4-9c71-b013c1aa8624"
      },
      "source": [
        "gold_data.isnull().sum()"
      ],
      "execution_count": 11,
      "outputs": [
        {
          "output_type": "execute_result",
          "data": {
            "text/plain": [
              "Date       0\n",
              "SPX        0\n",
              "GLD        0\n",
              "USO        0\n",
              "SLV        0\n",
              "EUR/USD    0\n",
              "dtype: int64"
            ]
          },
          "metadata": {},
          "execution_count": 11
        }
      ]
    },
    {
      "cell_type": "markdown",
      "metadata": {
        "id": "5CC3qwFIGKQ1"
      },
      "source": [
        "statastical values "
      ]
    },
    {
      "cell_type": "code",
      "metadata": {
        "colab": {
          "base_uri": "https://localhost:8080/",
          "height": 290
        },
        "id": "S__Stu_j9vGt",
        "outputId": "f7f74fec-ce37-45a0-f84a-75a7ab737d77"
      },
      "source": [
        "gold_data.describe()"
      ],
      "execution_count": 12,
      "outputs": [
        {
          "output_type": "execute_result",
          "data": {
            "text/html": [
              "<div>\n",
              "<style scoped>\n",
              "    .dataframe tbody tr th:only-of-type {\n",
              "        vertical-align: middle;\n",
              "    }\n",
              "\n",
              "    .dataframe tbody tr th {\n",
              "        vertical-align: top;\n",
              "    }\n",
              "\n",
              "    .dataframe thead th {\n",
              "        text-align: right;\n",
              "    }\n",
              "</style>\n",
              "<table border=\"1\" class=\"dataframe\">\n",
              "  <thead>\n",
              "    <tr style=\"text-align: right;\">\n",
              "      <th></th>\n",
              "      <th>SPX</th>\n",
              "      <th>GLD</th>\n",
              "      <th>USO</th>\n",
              "      <th>SLV</th>\n",
              "      <th>EUR/USD</th>\n",
              "    </tr>\n",
              "  </thead>\n",
              "  <tbody>\n",
              "    <tr>\n",
              "      <th>count</th>\n",
              "      <td>2290.000000</td>\n",
              "      <td>2290.000000</td>\n",
              "      <td>2290.000000</td>\n",
              "      <td>2290.000000</td>\n",
              "      <td>2290.000000</td>\n",
              "    </tr>\n",
              "    <tr>\n",
              "      <th>mean</th>\n",
              "      <td>1654.315776</td>\n",
              "      <td>122.732875</td>\n",
              "      <td>31.842221</td>\n",
              "      <td>20.084997</td>\n",
              "      <td>1.283653</td>\n",
              "    </tr>\n",
              "    <tr>\n",
              "      <th>std</th>\n",
              "      <td>519.111540</td>\n",
              "      <td>23.283346</td>\n",
              "      <td>19.523517</td>\n",
              "      <td>7.092566</td>\n",
              "      <td>0.131547</td>\n",
              "    </tr>\n",
              "    <tr>\n",
              "      <th>min</th>\n",
              "      <td>676.530029</td>\n",
              "      <td>70.000000</td>\n",
              "      <td>7.960000</td>\n",
              "      <td>8.850000</td>\n",
              "      <td>1.039047</td>\n",
              "    </tr>\n",
              "    <tr>\n",
              "      <th>25%</th>\n",
              "      <td>1239.874969</td>\n",
              "      <td>109.725000</td>\n",
              "      <td>14.380000</td>\n",
              "      <td>15.570000</td>\n",
              "      <td>1.171313</td>\n",
              "    </tr>\n",
              "    <tr>\n",
              "      <th>50%</th>\n",
              "      <td>1551.434998</td>\n",
              "      <td>120.580002</td>\n",
              "      <td>33.869999</td>\n",
              "      <td>17.268500</td>\n",
              "      <td>1.303296</td>\n",
              "    </tr>\n",
              "    <tr>\n",
              "      <th>75%</th>\n",
              "      <td>2073.010070</td>\n",
              "      <td>132.840004</td>\n",
              "      <td>37.827501</td>\n",
              "      <td>22.882499</td>\n",
              "      <td>1.369971</td>\n",
              "    </tr>\n",
              "    <tr>\n",
              "      <th>max</th>\n",
              "      <td>2872.870117</td>\n",
              "      <td>184.589996</td>\n",
              "      <td>117.480003</td>\n",
              "      <td>47.259998</td>\n",
              "      <td>1.598798</td>\n",
              "    </tr>\n",
              "  </tbody>\n",
              "</table>\n",
              "</div>"
            ],
            "text/plain": [
              "               SPX          GLD          USO          SLV      EUR/USD\n",
              "count  2290.000000  2290.000000  2290.000000  2290.000000  2290.000000\n",
              "mean   1654.315776   122.732875    31.842221    20.084997     1.283653\n",
              "std     519.111540    23.283346    19.523517     7.092566     0.131547\n",
              "min     676.530029    70.000000     7.960000     8.850000     1.039047\n",
              "25%    1239.874969   109.725000    14.380000    15.570000     1.171313\n",
              "50%    1551.434998   120.580002    33.869999    17.268500     1.303296\n",
              "75%    2073.010070   132.840004    37.827501    22.882499     1.369971\n",
              "max    2872.870117   184.589996   117.480003    47.259998     1.598798"
            ]
          },
          "metadata": {},
          "execution_count": 12
        }
      ]
    },
    {
      "cell_type": "markdown",
      "metadata": {
        "id": "kBzjxqWVGNVf"
      },
      "source": [
        "correleation\n",
        "1)postive\n",
        "2)negative"
      ]
    },
    {
      "cell_type": "code",
      "metadata": {
        "id": "g5cNBRsR95GI"
      },
      "source": [
        "correlation = gold_data.corr()"
      ],
      "execution_count": 13,
      "outputs": []
    },
    {
      "cell_type": "markdown",
      "metadata": {
        "id": "uUhV1RDQGTj4"
      },
      "source": [
        "ploting the correlation "
      ]
    },
    {
      "cell_type": "code",
      "metadata": {
        "colab": {
          "base_uri": "https://localhost:8080/",
          "height": 540
        },
        "id": "gbsA_b_T-iGZ",
        "outputId": "283ed648-41f4-4394-e787-9e10441faf23"
      },
      "source": [
        "plt.figure(figsize=(9,9))\n",
        "sns.heatmap(correlation, cbar=True, square=True, fmt='.1f',annot=True, annot_kws={'size':9}, cmap='Blues')"
      ],
      "execution_count": 16,
      "outputs": [
        {
          "output_type": "execute_result",
          "data": {
            "text/plain": [
              "<matplotlib.axes._subplots.AxesSubplot at 0x7f9e197ccf90>"
            ]
          },
          "metadata": {},
          "execution_count": 16
        },
        {
          "output_type": "display_data",
          "data": {
            "image/png": "[encoded data removed]",
            "text/plain": [
              "<Figure size 648x648 with 2 Axes>"
            ]
          },
          "metadata": {
            "needs_background": "light"
          }
        }
      ]
    },
    {
      "cell_type": "code",
      "metadata": {
        "colab": {
          "base_uri": "https://localhost:8080/"
        },
        "id": "YrsT0a4B_gD5",
        "outputId": "55373f6e-5985-4a46-e53a-c3d4b1ed81b3"
      },
      "source": [
        "print(correlation['GLD'])"
      ],
      "execution_count": 17,
      "outputs": [
        {
          "output_type": "stream",
          "name": "stdout",
          "text": [
            "SPX        0.049345\n",
            "GLD        1.000000\n",
            "USO       -0.186360\n",
            "SLV        0.866632\n",
            "EUR/USD   -0.024375\n",
            "Name: GLD, dtype: float64\n"
          ]
        }
      ]
    },
    {
      "cell_type": "markdown",
      "metadata": {
        "id": "8wDF957NGYjA"
      },
      "source": [
        "density graph"
      ]
    },
    {
      "cell_type": "code",
      "metadata": {
        "colab": {
          "base_uri": "https://localhost:8080/",
          "height": 351
        },
        "id": "GDU_or3_AJ0d",
        "outputId": "593fd657-cf29-44c5-f12d-191b6e34669c"
      },
      "source": [
        "sns.distplot(gold_data['GLD'],color='blue')"
      ],
      "execution_count": 18,
      "outputs": [
        {
          "output_type": "stream",
          "name": "stderr",
          "text": [
            "/usr/local/lib/python3.7/dist-packages/seaborn/distributions.py:2619: FutureWarning: `distplot` is a deprecated function and will be removed in a future version. Please adapt your code to use either `displot` (a figure-level function with similar flexibility) or `histplot` (an axes-level function for histograms).\n",
            "  warnings.warn(msg, FutureWarning)\n"
          ]
        },
        {
          "output_type": "execute_result",
          "data": {
            "text/plain": [
              "<matplotlib.axes._subplots.AxesSubplot at 0x7f9e149b9290>"
            ]
          },
          "metadata": {},
          "execution_count": 18
        },
        {
          "output_type": "display_data",
          "data": {
            "image/png": "[encoded data removed]",
            "text/plain": [
              "<Figure size 432x288 with 1 Axes>"
            ]
          },
          "metadata": {
            "needs_background": "light"
          }
        }
      ]
    },
    {
      "cell_type": "markdown",
      "metadata": {
        "id": "n942AgUMGeFN"
      },
      "source": [
        "deteing some coulums and replacing in other variable"
      ]
    },
    {
      "cell_type": "code",
      "metadata": {
        "id": "l8Miio6-AZJx"
      },
      "source": [
        "X = gold_data.drop(['Date','GLD'],axis=1)\n",
        "Y = gold_data['GLD'] "
      ],
      "execution_count": 21,
      "outputs": []
    },
    {
      "cell_type": "code",
      "metadata": {
        "colab": {
          "base_uri": "https://localhost:8080/"
        },
        "id": "tU2rUqn1A5QL",
        "outputId": "3b1051f5-a125-4606-e4f0-92828012aee5"
      },
      "source": [
        "print(X)"
      ],
      "execution_count": 22,
      "outputs": [
        {
          "output_type": "stream",
          "name": "stdout",
          "text": [
            "              SPX        USO      SLV   EUR/USD\n",
            "0     1447.160034  78.470001  15.1800  1.471692\n",
            "1     1447.160034  78.370003  15.2850  1.474491\n",
            "2     1411.630005  77.309998  15.1670  1.475492\n",
            "3     1416.180054  75.500000  15.0530  1.468299\n",
            "4     1390.189941  76.059998  15.5900  1.557099\n",
            "...           ...        ...      ...       ...\n",
            "2285  2671.919922  14.060000  15.5100  1.186789\n",
            "2286  2697.790039  14.370000  15.5300  1.184722\n",
            "2287  2723.070068  14.410000  15.7400  1.191753\n",
            "2288  2730.129883  14.380000  15.5600  1.193118\n",
            "2289  2725.780029  14.405800  15.4542  1.182033\n",
            "\n",
            "[2290 rows x 4 columns]\n"
          ]
        }
      ]
    },
    {
      "cell_type": "code",
      "metadata": {
        "colab": {
          "base_uri": "https://localhost:8080/"
        },
        "id": "j9K_2C6RBNRv",
        "outputId": "e73e3a3b-ea56-4201-e226-458797469b3c"
      },
      "source": [
        "print(Y)"
      ],
      "execution_count": 23,
      "outputs": [
        {
          "output_type": "stream",
          "name": "stdout",
          "text": [
            "0        84.860001\n",
            "1        85.570000\n",
            "2        85.129997\n",
            "3        84.769997\n",
            "4        86.779999\n",
            "           ...    \n",
            "2285    124.589996\n",
            "2286    124.330002\n",
            "2287    125.180000\n",
            "2288    124.489998\n",
            "2289    122.543800\n",
            "Name: GLD, Length: 2290, dtype: float64\n"
          ]
        }
      ]
    },
    {
      "cell_type": "markdown",
      "metadata": {
        "id": "kFUdl3_aGmbm"
      },
      "source": [
        "splitting into training and testiong sets"
      ]
    },
    {
      "cell_type": "code",
      "metadata": {
        "id": "mFYp-0ZHBQGL"
      },
      "source": [
        "\n",
        "X_train, X_test, Y_train, Y_test = train_test_split(X, Y, test_size = 0.2, random_state=2)\n"
      ],
      "execution_count": 26,
      "outputs": []
    },
    {
      "cell_type": "markdown",
      "metadata": {
        "id": "P06Bn0cKGr53"
      },
      "source": [
        "Randon forest regression model using for preidiction"
      ]
    },
    {
      "cell_type": "code",
      "metadata": {
        "id": "_T4H-WCVBxJQ"
      },
      "source": [
        "regressor=RandomForestRegressor(n_estimators=100)"
      ],
      "execution_count": 27,
      "outputs": []
    },
    {
      "cell_type": "code",
      "metadata": {
        "colab": {
          "base_uri": "https://localhost:8080/"
        },
        "id": "__DIvCV6Cq5C",
        "outputId": "812e9682-117c-404c-ffb0-c52f9aa44e56"
      },
      "source": [
        "regressor.fit(X_train,Y_train)"
      ],
      "execution_count": 28,
      "outputs": [
        {
          "output_type": "execute_result",
          "data": {
            "text/plain": [
              "RandomForestRegressor(bootstrap=True, ccp_alpha=0.0, criterion='mse',\n",
              "                      max_depth=None, max_features='auto', max_leaf_nodes=None,\n",
              "                      max_samples=None, min_impurity_decrease=0.0,\n",
              "                      min_impurity_split=None, min_samples_leaf=1,\n",
              "                      min_samples_split=2, min_weight_fraction_leaf=0.0,\n",
              "                      n_estimators=100, n_jobs=None, oob_score=False,\n",
              "                      random_state=None, verbose=0, warm_start=False)"
            ]
          },
          "metadata": {},
          "execution_count": 28
        }
      ]
    },
    {
      "cell_type": "code",
      "metadata": {
        "id": "l983D-3uCzZh"
      },
      "source": [
        "test_data_prediction=regressor.predict(X_test)"
      ],
      "execution_count": 29,
      "outputs": []
    },
    {
      "cell_type": "code",
      "metadata": {
        "colab": {
          "base_uri": "https://localhost:8080/"
        },
        "id": "xS3XB2LfDA9a",
        "outputId": "9fc8a0a2-bddc-4738-a773-2c1047ff7dcc"
      },
      "source": [
        "print(test_data_prediction)"
      ],
      "execution_count": 30,
      "outputs": [
        {
          "output_type": "stream",
          "name": "stdout",
          "text": [
            "[168.59629943  81.79069986 116.05579996 127.60310053 120.59230141\n",
            " 154.7960974  150.37679901 126.13290027 117.49019881 125.93670068\n",
            " 116.93350106 172.02450056 141.56639912 167.86309825 115.09680009\n",
            " 117.56290061 138.37960359 170.17030083 159.3873031  158.28860005\n",
            " 155.13469977 124.89410046 175.24909999 156.9981032  125.09410074\n",
            "  93.7404994   77.09140028 120.83120018 119.05439948 167.49249952\n",
            "  88.17559975 125.1300003   91.27510089 117.69650005 121.14839904\n",
            " 136.57600089 115.3637013  115.31140072 148.13370041 107.28660121\n",
            " 104.79080251  87.39519812 126.51580037 117.85690034 153.75869904\n",
            " 119.52160027 108.24879988 108.26979812  93.2591005  126.94699836\n",
            "  75.32450006 113.74459895 121.4958003  111.33959914 118.8710989\n",
            " 120.78509915 159.83790046 168.53200149 147.10239733  85.73789851\n",
            "  94.3517003   86.78559896  90.59060041 118.70200083 126.46400094\n",
            " 127.3894002  169.90560006 122.23209946 117.51469906  98.46410047\n",
            " 168.3451012  142.9823986  132.17940311 121.29150207 121.01949929\n",
            " 119.8909005  114.3194019  118.1670006  107.03770092 127.91210125\n",
            " 113.99159967 107.45529978 116.37420086 119.66759854  88.69990005\n",
            "  88.27269865 146.41570193 127.28629974 113.52000028 110.20559854\n",
            " 108.11849911  76.98309882 168.99750155 113.9939991  121.65179924\n",
            " 128.03430127 155.08879806  91.67869969 134.50970055 158.82790352\n",
            " 125.3626005  125.45420058 130.69940142 114.64160147 119.84269992\n",
            "  92.0857998  110.15659882 169.26959927 158.08639831 114.15039941\n",
            " 106.44290123  79.36019991 113.28710041 125.87460079 107.27419933\n",
            " 119.22310025 155.44550315 159.3511992  120.3378999  134.05200328\n",
            " 101.63370018 117.50919798 119.28890028 112.96020058 102.79129907\n",
            " 160.32819802  99.10390035 147.88629978 125.74300086 169.31739903\n",
            " 125.31089971 127.46819703 127.15410158 113.68369926 112.90790081\n",
            " 123.51659903 102.08809886  89.43229979 124.14029992 101.94559922\n",
            " 107.22209891 113.59670079 117.40370043  99.13729962 121.73670045\n",
            " 163.56489826  87.47709891 107.04409951 116.9895009  127.6868015\n",
            " 123.85590079  80.71399922 120.34360079 156.77619864  87.88109948\n",
            " 110.34639925 118.89489941 172.7255988  103.02059899 105.41280095\n",
            " 122.93690054 157.19499836  87.53649849  93.19390069 112.57060043\n",
            " 177.23969974 114.34719996 119.23030013  94.69820094 125.75680046\n",
            " 166.33200101 114.62520066 116.73470133  88.40109881 148.96540147\n",
            " 120.28339961  89.2318995  112.37650005 117.15179972 118.96220123\n",
            "  88.23929954  94.19619988 117.25940012 118.56310153 120.53940028\n",
            " 126.846398   121.97439985 151.11170029 164.60470044 118.56339966\n",
            " 120.49730136 151.0558003  118.36309951 172.59219868 105.37969953\n",
            " 105.0201014  149.9169014  113.64640089 124.75100141 147.71059968\n",
            " 119.76130088 115.25830041 112.85490004 113.62780198 140.55100164\n",
            " 117.75189776 103.0260005  116.01630104 103.87880188  99.01530057\n",
            " 117.46150096  90.64529997  91.55660048 153.52069874 102.72789971\n",
            " 154.92520119 114.41100139 139.3325008   90.06499793 115.4174993\n",
            " 114.93029971 123.06210017 121.89380029 165.24010113  92.90539946\n",
            " 135.64890123 121.32639964 120.85840077 104.85400033 142.73720314\n",
            " 122.08619915 116.59580041 113.58140068 127.01679787 122.90129953\n",
            " 125.70749922 121.19000042  86.90019914 132.27770092 143.89460187\n",
            "  92.65159926 158.5430993  159.29450185 126.3479989  164.04899903\n",
            " 108.67689962 110.33160093 103.64159826  94.21730094 127.53420235\n",
            " 107.01710045 161.79050012 121.81700029 132.0533003  130.62100146\n",
            " 160.77349924  90.14849837 175.17720208 128.10060004 126.83739878\n",
            "  86.70569956 124.5081992  150.2715971   89.71709997 107.28769966\n",
            " 109.05039991  84.66009919 135.8544996  155.14590246 139.22260333\n",
            "  73.91310039 153.06230025 126.21269987 126.75780038 127.58339891\n",
            " 108.83279955 156.31840022 114.49130142 116.88470144 125.00249895\n",
            " 154.15800139 121.25460009 156.41669865  92.91450059 125.49600142\n",
            " 125.46700065  87.8858006   92.08139904 126.19019901 128.41870399\n",
            " 113.27270061 117.54549736 120.89610066 127.06279845 120.10830098\n",
            " 136.29850134  93.94249957 119.74420036 113.40660122  94.3273994\n",
            " 108.88779929  87.40029925 108.85209934  89.66219982  92.41240014\n",
            " 131.61500245 162.40039999  89.30539999 119.53910082 133.26680179\n",
            " 123.9566004  128.47710236 101.86819836  89.00659896 131.56150098\n",
            " 120.3559     108.55789985 169.5858005  115.30520032  86.58079921\n",
            " 118.82160071  91.07999966 161.99789996 116.51090046 121.56240019\n",
            " 160.09449725 120.1991993  112.58959953 108.55999877 126.70610013\n",
            "  76.06560034 102.94359979 127.39730199 121.71689918  92.64789988\n",
            " 132.18230061 118.12130088 115.97249943 154.4891027  159.4490001\n",
            " 110.16749985 155.2325977  119.39880098 160.25290137 118.65020032\n",
            " 157.64070014 115.13259967 117.13130021 148.46489917 114.66450097\n",
            " 126.02149892 166.32239928 117.75869994 125.22619942 153.17200313\n",
            " 153.59250209 132.06730066 114.74440047 121.25710179 125.41720072\n",
            "  89.88150049 122.85369966 154.77080183 111.82530043 106.92839964\n",
            " 161.57060094 118.44099982 165.66419994 133.99640097 114.94689952\n",
            " 153.03939938 168.66269943 114.76530011 113.95480126 158.2126984\n",
            "  85.35499869 127.21180039 128.06650017 128.94220013 124.51170063\n",
            " 123.83470051  90.61530108 153.17430033  97.10979969 137.98149969\n",
            "  88.74109891 107.38529993 114.99450021 112.95530091 124.33679928\n",
            "  91.44759876 125.34080136 162.22119855 119.92449889 165.14070021\n",
            " 126.86159803 112.40749996 127.59449943  94.87729891  90.94339998\n",
            " 103.86129932 120.88770039  83.20369953 126.32540013 160.10920481\n",
            " 117.26130122 118.31330008 120.15639991 122.60089914 120.25980141\n",
            " 121.31020034 118.45320073 107.2277998  148.45980054 125.89039898\n",
            " 115.88480055  73.66800019 127.80660097 154.3890009  123.54870047\n",
            " 125.63930072  88.75370009 103.20859864 124.79770017 120.24360057\n",
            "  73.16610105 152.04419995 121.4438006  104.74289999  86.2522974\n",
            " 115.15239891 172.2378976  119.90900044 159.85489805 113.11409952\n",
            " 120.94350004 118.78570084  95.87629985 118.79850016 125.93510041\n",
            " 118.57739947  95.62430001 153.93510122 122.03270017 146.99889993\n",
            " 158.98330283 113.73110049 122.70259932 148.96669806 127.04330062\n",
            " 165.69920062 135.81380064 120.09399959 167.08279817 108.30249961\n",
            " 121.69749853 138.01830155 105.82769904]\n"
          ]
        }
      ]
    },
    {
      "cell_type": "markdown",
      "metadata": {
        "id": "ojaCBfp3G2Lx"
      },
      "source": [
        "checing efficiency or error rate"
      ]
    },
    {
      "cell_type": "code",
      "metadata": {
        "id": "2ZkRPCn-DGXJ"
      },
      "source": [
        "error_score=metrics.r2_score(Y_test,test_data_prediction)"
      ],
      "execution_count": 31,
      "outputs": []
    },
    {
      "cell_type": "code",
      "metadata": {
        "colab": {
          "base_uri": "https://localhost:8080/"
        },
        "id": "5gZLNO-xDhN-",
        "outputId": "f04320fa-4c1b-413b-d1b5-a8f41ffbba63"
      },
      "source": [
        "print(error_score)"
      ],
      "execution_count": 32,
      "outputs": [
        {
          "output_type": "stream",
          "name": "stdout",
          "text": [
            "0.9889507743268302\n"
          ]
        }
      ]
    },
    {
      "cell_type": "code",
      "metadata": {
        "id": "aGyEOjhDDoyL"
      },
      "source": [
        "Y_test=list(Y_test)"
      ],
      "execution_count": 33,
      "outputs": []
    },
    {
      "cell_type": "markdown",
      "metadata": {
        "id": "aV5kNVgEG7_t"
      },
      "source": [
        "ploting to check erroe(your wish) only to check hoe huch it is varying"
      ]
    },
    {
      "cell_type": "code",
      "metadata": {
        "colab": {
          "base_uri": "https://localhost:8080/",
          "height": 295
        },
        "id": "fhQHCG89DzAG",
        "outputId": "cb935266-c9ab-4a71-fe7d-ebc5210dde2d"
      },
      "source": [
        "plt.plot(Y_test,color='blue',label='actual value')\n",
        "plt.plot(test_data_prediction,color=\"red\",label='predicted values')\n",
        "plt.title('actual price vs pridicted price')\n",
        "plt.xlabel('number of values')\n",
        "plt.ylabel('gold price')\n",
        "plt.legend()\n",
        "plt.show()"
      ],
      "execution_count": 36,
      "outputs": [
        {
          "output_type": "display_data",
          "data": {
            "image/png": "[encoded data removed]",
            "text/plain": [
              "<Figure size 432x288 with 1 Axes>"
            ]
          },
          "metadata": {
            "needs_background": "light"
          }
        }
      ]
    }
  ]
}